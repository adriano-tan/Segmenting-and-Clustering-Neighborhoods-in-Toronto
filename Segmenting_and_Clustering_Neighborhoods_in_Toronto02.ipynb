{
  "nbformat": 4,
  "nbformat_minor": 0,
  "metadata": {
    "colab": {
      "name": "Segmenting and Clustering Neighborhoods in Toronto02.ipynb",
      "provenance": [],
      "collapsed_sections": []
    },
    "kernelspec": {
      "name": "python3",
      "display_name": "Python 3"
    }
  },
  "cells": [
    {
      "cell_type": "markdown",
      "metadata": {
        "id": "ZI8vHQjhYxNy",
        "colab_type": "text"
      },
      "source": [
        "**Import the necessary libraries**"
      ]
    },
    {
      "cell_type": "code",
      "metadata": {
        "id": "nCyHASsiY6Zo",
        "colab_type": "code",
        "colab": {}
      },
      "source": [
        "\n",
        "import numpy as np\n",
        "import pandas as pd\n",
        "from bs4 import BeautifulSoup\n",
        "import requests\n",
        "# Matplotlib and associated plotting modules\n",
        "import matplotlib.cm as cm\n",
        "import matplotlib.colors as colors"
      ],
      "execution_count": 1,
      "outputs": []
    },
    {
      "cell_type": "markdown",
      "metadata": {
        "id": "AeyWoHt3Y-J3",
        "colab_type": "text"
      },
      "source": [
        "**Importing the Data using BeautifulSoup**"
      ]
    },
    {
      "cell_type": "code",
      "metadata": {
        "id": "KYe2Xfo0ZHRn",
        "colab_type": "code",
        "colab": {}
      },
      "source": [
        "\n",
        "# Use BeautifulSoup and get the table from url:\n",
        "url='https://en.wikipedia.org/wiki/List_of_postal_codes_of_Canada:_M'\n",
        "source = requests.get(url).text\n",
        "soup = BeautifulSoup(source,'lxml')\n",
        "table = soup.find('table')"
      ],
      "execution_count": 2,
      "outputs": []
    },
    {
      "cell_type": "markdown",
      "metadata": {
        "id": "Rwo_jczaZKm_",
        "colab_type": "text"
      },
      "source": [
        "\n",
        "**Create a function that:**\n",
        "1. Postal\n",
        "2. Borough\n",
        "3. Neighbourhood\n",
        "Verify, format and add these values into a Dataframe called df"
      ]
    },
    {
      "cell_type": "code",
      "metadata": {
        "id": "2fBHfGDtaY_6",
        "colab_type": "code",
        "colab": {}
      },
      "source": [
        "def add_to_database(item):    \n",
        "    if len(item) == 2:\n",
        "        item=item[0]\n",
        "    #get Pastal Code, the 1st 3 characters of the string:\n",
        "    postal  = item[:3]    \n",
        "    #initializa borough and neigh to 'NA':\n",
        "    borough = 'NA'\n",
        "    neighb  = 'NA'\n",
        "    #Verify if we have a parentesis (neighborhoods were between paranthesis before wikipedia's update):\n",
        "    if (\"(\" in item):\n",
        "        item = item.split(\"(\")\n",
        "        #update neighborhood (between paranthesis):\n",
        "        borough = item[0][3-len(item[0]):]\n",
        "        # replace '/' with ',' and ')' with nothing:\n",
        "        neighb  = item[1].replace(\" /\", \",\").replace(\"/\", \",\").replace(\")\", \"\")\n",
        "    else:\n",
        "        #If there is no parenthesis, then we only have to update borough\n",
        "        borough = item[3-len(item):]\n",
        "    if neighb  == 'NA':\n",
        "        neighb = borough        \n",
        "    #Add postal, borough and neighborhood to dataframe: \n",
        "    global df\n",
        "    if borough.upper() != 'NOT ASSIGNED' and borough != 'NA':\n",
        "         df = df.append({'PostalCode': postal,\n",
        "                         'Borough': borough,\n",
        "                         'Neighborhood': neighb}, ignore_index=True)"
      ],
      "execution_count": 3,
      "outputs": []
    },
    {
      "cell_type": "markdown",
      "metadata": {
        "id": "YH8Xl4u7aguo",
        "colab_type": "text"
      },
      "source": [
        "**Create a list to receive items from table; I did some changes in the code below, to read and transform the data in the old wikipedia table layout**"
      ]
    },
    {
      "cell_type": "code",
      "metadata": {
        "id": "u-Vja6rJaoRB",
        "colab_type": "code",
        "colab": {
          "base_uri": "https://localhost:8080/",
          "height": 185
        },
        "outputId": "ad641d83-b17c-415b-e4c0-7517bf3a2f80"
      },
      "source": [
        "\n",
        "list=[]\n",
        "j=0\n",
        "for row in table.find_all('tr'):\n",
        "    old_cell_format=''\n",
        "    i=0\n",
        "    j=j+1\n",
        "    if j != 1:\n",
        "        for cell in row.find_all('td'):        \n",
        "            i=i+1\n",
        "            celtxt = cell.text.replace('\\n','')\n",
        "            if i != 3:\n",
        "                old_cell_format=old_cell_format + celtxt\n",
        "            else:\n",
        "                if len(celtxt) > 0:                    \n",
        "                    old_cell_format=old_cell_format + '(' + celtxt + ')'\n",
        "        list.append(old_cell_format)    \n",
        "list[0:10]"
      ],
      "execution_count": 4,
      "outputs": [
        {
          "output_type": "execute_result",
          "data": {
            "text/plain": [
              "['M1ANot assigned(Not assigned)',\n",
              " 'M2ANot assigned(Not assigned)',\n",
              " 'M3ANorth York(Parkwoods)',\n",
              " 'M4ANorth York(Victoria Village)',\n",
              " 'M5ADowntown Toronto(Regent Park, Harbourfront)',\n",
              " 'M6ANorth York(Lawrence Manor, Lawrence Heights)',\n",
              " \"M7ADowntown Toronto(Queen's Park, Ontario Provincial Government)\",\n",
              " 'M8ANot assigned(Not assigned)',\n",
              " 'M9AEtobicoke(Islington Avenue, Humber Valley Village)',\n",
              " 'M1BScarborough(Malvern, Rouge)']"
            ]
          },
          "metadata": {
            "tags": []
          },
          "execution_count": 4
        }
      ]
    },
    {
      "cell_type": "markdown",
      "metadata": {
        "id": "azHS1TQMa2gP",
        "colab_type": "text"
      },
      "source": [
        "**Call function add_to_database to populate the database**"
      ]
    },
    {
      "cell_type": "code",
      "metadata": {
        "id": "7lf5wiVWa57P",
        "colab_type": "code",
        "colab": {
          "base_uri": "https://localhost:8080/",
          "height": 343
        },
        "outputId": "55e1a6b8-8c8b-4b17-9bae-cfaafcb77e59"
      },
      "source": [
        "df = pd.DataFrame(columns=['PostalCode','Borough','Neighborhood'])\n",
        "for item in list:\n",
        "    add_to_database(item)              \n",
        "df.head(10)"
      ],
      "execution_count": 5,
      "outputs": [
        {
          "output_type": "execute_result",
          "data": {
            "text/html": [
              "<div>\n",
              "<style scoped>\n",
              "    .dataframe tbody tr th:only-of-type {\n",
              "        vertical-align: middle;\n",
              "    }\n",
              "\n",
              "    .dataframe tbody tr th {\n",
              "        vertical-align: top;\n",
              "    }\n",
              "\n",
              "    .dataframe thead th {\n",
              "        text-align: right;\n",
              "    }\n",
              "</style>\n",
              "<table border=\"1\" class=\"dataframe\">\n",
              "  <thead>\n",
              "    <tr style=\"text-align: right;\">\n",
              "      <th></th>\n",
              "      <th>PostalCode</th>\n",
              "      <th>Borough</th>\n",
              "      <th>Neighborhood</th>\n",
              "    </tr>\n",
              "  </thead>\n",
              "  <tbody>\n",
              "    <tr>\n",
              "      <th>0</th>\n",
              "      <td>M3A</td>\n",
              "      <td>North York</td>\n",
              "      <td>Parkwoods</td>\n",
              "    </tr>\n",
              "    <tr>\n",
              "      <th>1</th>\n",
              "      <td>M4A</td>\n",
              "      <td>North York</td>\n",
              "      <td>Victoria Village</td>\n",
              "    </tr>\n",
              "    <tr>\n",
              "      <th>2</th>\n",
              "      <td>M5A</td>\n",
              "      <td>Downtown Toronto</td>\n",
              "      <td>Regent Park, Harbourfront</td>\n",
              "    </tr>\n",
              "    <tr>\n",
              "      <th>3</th>\n",
              "      <td>M6A</td>\n",
              "      <td>North York</td>\n",
              "      <td>Lawrence Manor, Lawrence Heights</td>\n",
              "    </tr>\n",
              "    <tr>\n",
              "      <th>4</th>\n",
              "      <td>M7A</td>\n",
              "      <td>Downtown Toronto</td>\n",
              "      <td>Queen's Park, Ontario Provincial Government</td>\n",
              "    </tr>\n",
              "    <tr>\n",
              "      <th>5</th>\n",
              "      <td>M9A</td>\n",
              "      <td>Etobicoke</td>\n",
              "      <td>Islington Avenue, Humber Valley Village</td>\n",
              "    </tr>\n",
              "    <tr>\n",
              "      <th>6</th>\n",
              "      <td>M1B</td>\n",
              "      <td>Scarborough</td>\n",
              "      <td>Malvern, Rouge</td>\n",
              "    </tr>\n",
              "    <tr>\n",
              "      <th>7</th>\n",
              "      <td>M3B</td>\n",
              "      <td>North York</td>\n",
              "      <td>Don Mills</td>\n",
              "    </tr>\n",
              "    <tr>\n",
              "      <th>8</th>\n",
              "      <td>M4B</td>\n",
              "      <td>East York</td>\n",
              "      <td>Parkview Hill, Woodbine Gardens</td>\n",
              "    </tr>\n",
              "    <tr>\n",
              "      <th>9</th>\n",
              "      <td>M5B</td>\n",
              "      <td>Downtown Toronto</td>\n",
              "      <td>Garden District, Ryerson</td>\n",
              "    </tr>\n",
              "  </tbody>\n",
              "</table>\n",
              "</div>"
            ],
            "text/plain": [
              "  PostalCode           Borough                                 Neighborhood\n",
              "0        M3A        North York                                    Parkwoods\n",
              "1        M4A        North York                             Victoria Village\n",
              "2        M5A  Downtown Toronto                    Regent Park, Harbourfront\n",
              "3        M6A        North York             Lawrence Manor, Lawrence Heights\n",
              "4        M7A  Downtown Toronto  Queen's Park, Ontario Provincial Government\n",
              "5        M9A         Etobicoke      Islington Avenue, Humber Valley Village\n",
              "6        M1B       Scarborough                               Malvern, Rouge\n",
              "7        M3B        North York                                    Don Mills\n",
              "8        M4B         East York              Parkview Hill, Woodbine Gardens\n",
              "9        M5B  Downtown Toronto                     Garden District, Ryerson"
            ]
          },
          "metadata": {
            "tags": []
          },
          "execution_count": 5
        }
      ]
    }
  ]
}